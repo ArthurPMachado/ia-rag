{
 "cells": [
  {
   "cell_type": "code",
   "execution_count": 12,
   "id": "c67b1858-33b9-460f-b8a7-4b9bb53487dc",
   "metadata": {},
   "outputs": [],
   "source": [
    "from langchain_text_splitters import RecursiveCharacterTextSplitter # lib to transform text in chunks\n",
    "from langchain_openai import OpenAIEmbeddings # lib for the embedding model\n",
    "from langchain_openai import ChatOpenAI \n",
    "from langchain_community.vectorstores import Chroma # vector database\n",
    "from langchain_community.document_loaders import PyPDFLoader\n",
    "from langchain.chains.question_answering import load_qa_chain # lib to make prompt"
   ]
  },
  {
   "cell_type": "code",
   "execution_count": 13,
   "id": "c0f55496-d652-40ec-b9f7-e651714143f6",
   "metadata": {},
   "outputs": [
    {
     "data": {
      "text/plain": [
       "True"
      ]
     },
     "execution_count": 13,
     "metadata": {},
     "output_type": "execute_result"
    }
   ],
   "source": [
    "import os\n",
    "from dotenv import load_dotenv\n",
    "\n",
    "load_dotenv()"
   ]
  },
  {
   "cell_type": "code",
   "execution_count": 14,
   "id": "4f13571c-bcb8-4a0a-8388-de8bbd325064",
   "metadata": {},
   "outputs": [],
   "source": [
    "# Load of models (Embeddings and LLM)\n",
    "\n",
    "embeddings_model = OpenAIEmbeddings()\n",
    "llm = ChatOpenAI(model_name=\"gpt-3.5-turbo\", max_tokens = 200)"
   ]
  },
  {
   "cell_type": "code",
   "execution_count": null,
   "id": "757f6f23-c689-4cff-9b88-4e4fe0b211e5",
   "metadata": {},
   "outputs": [],
   "source": []
  }
 ],
 "metadata": {
  "kernelspec": {
   "display_name": "Python 3 (ipykernel)",
   "language": "python",
   "name": "python3"
  },
  "language_info": {
   "codemirror_mode": {
    "name": "ipython",
    "version": 3
   },
   "file_extension": ".py",
   "mimetype": "text/x-python",
   "name": "python",
   "nbconvert_exporter": "python",
   "pygments_lexer": "ipython3",
   "version": "3.8.10"
  }
 },
 "nbformat": 4,
 "nbformat_minor": 5
}
